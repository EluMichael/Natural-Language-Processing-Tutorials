{
 "cells": [
  {
   "cell_type": "markdown",
   "metadata": {},
   "source": [
    "# Webinar 3 - Parts of Speech Tagging with HMM"
   ]
  },
  {
   "cell_type": "markdown",
   "metadata": {},
   "source": [
    "In this jupyter notebook, We will go through 4 different topics:\n",
    "1. **Parts of Speech Tagging**\n",
    "2. **Lookup Table**\n",
    "3. **Bigrams**\n",
    "4. **Hidden Markov Models (HMM) in Speech Tagging (Warmup)**"
   ]
  },
  {
   "cell_type": "markdown",
   "metadata": {},
   "source": [
    "<hr>\n",
    "\n",
    "## 1. Parts of Speech Tagging\n",
    "\n",
    "In parts of speech tagging we want to figure out which words are nouns, verbs, adjectives, adverbs, etc. So we want to label or tag each words in a given sentence. The labels are called parts of speech and the problem itself is called parts of speech tagging.\n",
    "\n",
    "In this part you will learn more about Parts of speech tagging (POS) using NLTK. Later on you will build POS using Hidden Markov Model (HMM)."
   ]
  },
  {
   "cell_type": "code",
   "execution_count": 1,
   "metadata": {},
   "outputs": [],
   "source": [
    "# Importing the libraries\n",
    "import nltk\n",
    "import IPython\n",
    "import re"
   ]
  },
  {
   "cell_type": "code",
   "execution_count": 2,
   "metadata": {},
   "outputs": [],
   "source": [
    "# Sample text\n",
    "text = \"As I was waiting, a man came out of a side room, and at a glance I was sure he must be Long John.\""
   ]
  },
  {
   "cell_type": "markdown",
   "metadata": {},
   "source": [
    "Before getting the parts of speech of our text, We need to preprocess our text:"
   ]
  },
  {
   "cell_type": "code",
   "execution_count": 3,
   "metadata": {},
   "outputs": [
    {
     "name": "stdout",
     "output_type": "stream",
     "text": [
      "Preprocessed text: \n",
      " ['as', 'i', 'was', 'waiting', 'a', 'man', 'came', 'out', 'of', 'a', 'side', 'room', 'and', 'at', 'a', 'glance', 'i', 'was', 'sure', 'he', 'must', 'be', 'long', 'john']\n"
     ]
    }
   ],
   "source": [
    "# Lower case\n",
    "text = text.lower()\n",
    "\n",
    "# remove punctuation\n",
    "text = re.sub(r\"[^a-zA-Z0-9]\", \" \", text)\n",
    "\n",
    "# Tokenizing\n",
    "text = text.split()\n",
    "print(\"Preprocessed text: \\n\", text)"
   ]
  },
  {
   "cell_type": "code",
   "execution_count": 4,
   "metadata": {},
   "outputs": [
    {
     "data": {
      "text/plain": [
       "[('as', 'IN'),\n",
       " ('i', 'NN'),\n",
       " ('was', 'VBD'),\n",
       " ('waiting', 'VBG'),\n",
       " ('a', 'DT'),\n",
       " ('man', 'NN'),\n",
       " ('came', 'VBD'),\n",
       " ('out', 'IN'),\n",
       " ('of', 'IN'),\n",
       " ('a', 'DT'),\n",
       " ('side', 'NN'),\n",
       " ('room', 'NN'),\n",
       " ('and', 'CC'),\n",
       " ('at', 'IN'),\n",
       " ('a', 'DT'),\n",
       " ('glance', 'NN'),\n",
       " ('i', 'NN'),\n",
       " ('was', 'VBD'),\n",
       " ('sure', 'JJ'),\n",
       " ('he', 'PRP'),\n",
       " ('must', 'MD'),\n",
       " ('be', 'VB'),\n",
       " ('long', 'JJ'),\n",
       " ('john', 'NN')]"
      ]
     },
     "execution_count": 4,
     "metadata": {},
     "output_type": "execute_result"
    }
   ],
   "source": [
    "# Parts of speech tagging using NLTK\n",
    "nltk.pos_tag(text)"
   ]
  },
  {
   "cell_type": "markdown",
   "metadata": {},
   "source": [
    "**Resources:**\n",
    "1. <a href=\"https://medium.com/@gianpaul.r/tokenization-and-parts-of-speech-pos-tagging-in-pythons-nltk-library-2d30f70af13b\">Tokenization and Parts of Speech(POS) Tagging in Python’s NLTK library</a> - Medium Post\n",
    "2. <a href=\"https://www.nltk.org/book/ch05.html\">Categorizing and Tagging Words</a> - NLTK official\n",
    "3. <a href=\"https://en.wikipedia.org/wiki/Part-of-speech_tagging\">Part-of-speech tagging</a> - Wikipedia.com"
   ]
  },
  {
   "cell_type": "markdown",
   "metadata": {},
   "source": [
    "<hr>\n",
    "\n",
    "## 2. Lookup Table\n",
    "\n",
    "In our lookup table, We will go through each word in our dataset and count their POS. Then we will put each of the corresponding values into our table.\n",
    "\n",
    "<img src=\"./assets/lookup.png\">"
   ]
  },
  {
   "cell_type": "code",
   "execution_count": 1,
   "metadata": {},
   "outputs": [],
   "source": [
    "# Importing the libraries\n",
    "import re\n",
    "import numpy as np\n",
    "import pandas as pd\n",
    "from collections import Counter\n",
    "from nltk.tokenize import word_tokenize"
   ]
  },
  {
   "cell_type": "code",
   "execution_count": 2,
   "metadata": {},
   "outputs": [
    {
     "name": "stdout",
     "output_type": "stream",
     "text": [
      "['Mary saw Jane.', 'Jane saw Will.']\n",
      "['noun verb noun', 'noun verb noun']\n"
     ]
    }
   ],
   "source": [
    "# Sample text and its corresponding labels\n",
    "text = [\"Mary saw Jane.\",\n",
    "        \"Jane saw Will.\"]\n",
    "print(text)\n",
    "\n",
    "labels = [\"noun verb noun\",\n",
    "          \"noun verb noun\"]\n",
    "print(labels)"
   ]
  },
  {
   "cell_type": "code",
   "execution_count": 3,
   "metadata": {},
   "outputs": [
    {
     "name": "stdout",
     "output_type": "stream",
     "text": [
      "Tokens: \n",
      " ['mary', 'saw', 'jane', 'jane', 'saw', 'will'] \n",
      "\n",
      "Labels: \n",
      " ['noun', 'verb', 'noun', 'noun', 'verb', 'noun']\n"
     ]
    }
   ],
   "source": [
    "# Preprocessing text\n",
    "def preprocess(text_list, labels):\n",
    "    # Converting the list of sentences into one string\n",
    "    text = \" \".join(text_list)\n",
    "    # Convert to lowercase\n",
    "    text = text.lower()\n",
    "    # Removing punctuation\n",
    "    text = re.sub(r\"[^a-zA-Z0-9]\", \" \", text)\n",
    "    # Tokenize the words\n",
    "    tokens = word_tokenize(text)\n",
    "\n",
    "    # Converting the list of labels into one string\n",
    "    labels = \" \".join(labels)\n",
    "    labels = word_tokenize(labels)\n",
    "    \n",
    "    return tokens, labels\n",
    "\n",
    "tokens, labels = preprocess(text, labels)\n",
    "print(\"Tokens: \\n\", tokens, \"\\n\")\n",
    "print(\"Labels: \\n\", labels)"
   ]
  },
  {
   "cell_type": "code",
   "execution_count": 4,
   "metadata": {},
   "outputs": [
    {
     "data": {
      "text/plain": [
       "Counter({('mary', 'noun'): 1,\n",
       "         ('saw', 'verb'): 2,\n",
       "         ('jane', 'noun'): 2,\n",
       "         ('will', 'noun'): 1})"
      ]
     },
     "execution_count": 4,
     "metadata": {},
     "output_type": "execute_result"
    }
   ],
   "source": [
    "# Count function\n",
    "def count(tokens, labels):\n",
    "    # Initialize Counter\n",
    "    cnt = Counter()\n",
    "    # Iterating through tokens and labels\n",
    "    for i_word, i_label in zip(tokens, labels):\n",
    "        # If word and label are inside counter\n",
    "        if (i_word, i_label) not in cnt:\n",
    "            cnt[(i_word, i_label)] = 1\n",
    "        # If word and label are not inside counter\n",
    "        else:\n",
    "            cnt[(i_word, i_label)] += 1\n",
    "    return cnt\n",
    "\n",
    "cnt = count(tokens, labels)\n",
    "cnt"
   ]
  },
  {
   "cell_type": "code",
   "execution_count": 5,
   "metadata": {},
   "outputs": [
    {
     "data": {
      "text/html": [
       "<div>\n",
       "<style scoped>\n",
       "    .dataframe tbody tr th:only-of-type {\n",
       "        vertical-align: middle;\n",
       "    }\n",
       "\n",
       "    .dataframe tbody tr th {\n",
       "        vertical-align: top;\n",
       "    }\n",
       "\n",
       "    .dataframe thead th {\n",
       "        text-align: right;\n",
       "    }\n",
       "</style>\n",
       "<table border=\"1\" class=\"dataframe\">\n",
       "  <thead>\n",
       "    <tr style=\"text-align: right;\">\n",
       "      <th></th>\n",
       "      <th>noun</th>\n",
       "      <th>verb</th>\n",
       "    </tr>\n",
       "  </thead>\n",
       "  <tbody>\n",
       "    <tr>\n",
       "      <th>jane</th>\n",
       "      <td>0.0</td>\n",
       "      <td>0.0</td>\n",
       "    </tr>\n",
       "    <tr>\n",
       "      <th>mary</th>\n",
       "      <td>0.0</td>\n",
       "      <td>0.0</td>\n",
       "    </tr>\n",
       "    <tr>\n",
       "      <th>saw</th>\n",
       "      <td>0.0</td>\n",
       "      <td>0.0</td>\n",
       "    </tr>\n",
       "    <tr>\n",
       "      <th>will</th>\n",
       "      <td>0.0</td>\n",
       "      <td>0.0</td>\n",
       "    </tr>\n",
       "  </tbody>\n",
       "</table>\n",
       "</div>"
      ],
      "text/plain": [
       "      noun  verb\n",
       "jane   0.0   0.0\n",
       "mary   0.0   0.0\n",
       "saw    0.0   0.0\n",
       "will   0.0   0.0"
      ]
     },
     "execution_count": 5,
     "metadata": {},
     "output_type": "execute_result"
    }
   ],
   "source": [
    "# Initializing zeros data frame\n",
    "df = pd.DataFrame(np.zeros((len(np.unique(tokens)), len(np.unique(labels)))))\n",
    "# Changing the column names\n",
    "df.columns = list(np.unique(labels))\n",
    "# Changing the index names\n",
    "df.index = list(np.unique(tokens))\n",
    "\n",
    "df"
   ]
  },
  {
   "cell_type": "code",
   "execution_count": 6,
   "metadata": {},
   "outputs": [
    {
     "data": {
      "text/html": [
       "<div>\n",
       "<style scoped>\n",
       "    .dataframe tbody tr th:only-of-type {\n",
       "        vertical-align: middle;\n",
       "    }\n",
       "\n",
       "    .dataframe tbody tr th {\n",
       "        vertical-align: top;\n",
       "    }\n",
       "\n",
       "    .dataframe thead th {\n",
       "        text-align: right;\n",
       "    }\n",
       "</style>\n",
       "<table border=\"1\" class=\"dataframe\">\n",
       "  <thead>\n",
       "    <tr style=\"text-align: right;\">\n",
       "      <th></th>\n",
       "      <th>noun</th>\n",
       "      <th>verb</th>\n",
       "    </tr>\n",
       "  </thead>\n",
       "  <tbody>\n",
       "    <tr>\n",
       "      <th>jane</th>\n",
       "      <td>2.0</td>\n",
       "      <td>0.0</td>\n",
       "    </tr>\n",
       "    <tr>\n",
       "      <th>mary</th>\n",
       "      <td>1.0</td>\n",
       "      <td>0.0</td>\n",
       "    </tr>\n",
       "    <tr>\n",
       "      <th>saw</th>\n",
       "      <td>0.0</td>\n",
       "      <td>2.0</td>\n",
       "    </tr>\n",
       "    <tr>\n",
       "      <th>will</th>\n",
       "      <td>1.0</td>\n",
       "      <td>0.0</td>\n",
       "    </tr>\n",
       "  </tbody>\n",
       "</table>\n",
       "</div>"
      ],
      "text/plain": [
       "      noun  verb\n",
       "jane   2.0   0.0\n",
       "mary   1.0   0.0\n",
       "saw    0.0   2.0\n",
       "will   1.0   0.0"
      ]
     },
     "execution_count": 6,
     "metadata": {},
     "output_type": "execute_result"
    }
   ],
   "source": [
    "# Updating the values in our dataframe\n",
    "for i in list(cnt.items()):\n",
    "    # Get the corresponding word\n",
    "    word = i[0][0]\n",
    "    # Get the corresponding lable\n",
    "    label = i[0][1]\n",
    "    # Update\n",
    "    df[label][word] = i[1]\n",
    "    \n",
    "df"
   ]
  },
  {
   "cell_type": "markdown",
   "metadata": {},
   "source": [
    "**Resources:**\n",
    "\n",
    "1. <a href=\"https://codeburst.io/python-basics-11-word-count-filter-out-punctuation-dictionary-manipulation-and-sorting-lists-3f6c55420855\">Python Word Count (Filter out Punctuation, Dictionary Manipulation, and Sorting Lists)</a> - Medium Post"
   ]
  },
  {
   "cell_type": "markdown",
   "metadata": {},
   "source": [
    "<hr>\n",
    "\n",
    "## 3. Bigrams \n",
    "\n",
    "A **bigram** is a sequence of two adjacent elements from a string of tokens, which are typically letters, syllables, or words. A bigram is an n-gram for n=2. The frequency distribution of every bigram in a string is commonly used for simple statistical analysis of text in many applications, including in computational linguistics, cryptography, speech recognition, and so on. (Wikipedia)\n",
    "\n",
    "In here you will learn do create a bigram count table:\n",
    "\n",
    "<img src=\"./assets/bigrams.png\">"
   ]
  },
  {
   "cell_type": "code",
   "execution_count": 93,
   "metadata": {},
   "outputs": [],
   "source": [
    "# Import the libraries\n",
    "import re\n",
    "from collections import Counter\n",
    "import numpy as np\n",
    "import pandas as pd\n",
    "import nltk\n",
    "from nltk.tokenize import word_tokenize"
   ]
  },
  {
   "cell_type": "code",
   "execution_count": 95,
   "metadata": {},
   "outputs": [
    {
     "name": "stdout",
     "output_type": "stream",
     "text": [
      "Text: \n",
      " ['Mary will see Jane.', 'Will will see Mary.', 'Jane will see Will.'] \n",
      "\n",
      "Label: \n",
      " ['noun modal verb noun', 'noun modal verb noun', 'noun modal verb noun']\n"
     ]
    }
   ],
   "source": [
    "# Get the sample text\n",
    "text = [\"Mary will see Jane.\",\n",
    "        \"Will will see Mary.\",\n",
    "        \"Jane will see Will.\"]\n",
    "print(\"Text: \\n\", text, \"\\n\")\n",
    "\n",
    "# Get the lable\n",
    "labels = [\"noun modal verb noun\",\n",
    "         \"noun modal verb noun\",\n",
    "         \"noun modal verb noun\"]\n",
    "print(\"Label: \\n\", labels)"
   ]
  },
  {
   "cell_type": "code",
   "execution_count": 96,
   "metadata": {},
   "outputs": [
    {
     "name": "stdout",
     "output_type": "stream",
     "text": [
      "Tokens: \n",
      " ['mary', 'will', 'see', 'jane', 'will', 'will', 'see', 'mary', 'jane', 'will', 'see', 'will'] \n",
      "\n",
      "Labels: \n",
      " ['noun', 'modal', 'verb', 'noun', 'noun', 'modal', 'verb', 'noun', 'noun', 'modal', 'verb', 'noun']\n"
     ]
    }
   ],
   "source": [
    "# Preprocessing text\n",
    "def preprocess(text_list, labels):\n",
    "    # Converting the list of sentences into one string\n",
    "    text = \" \".join(text_list)\n",
    "    # Convert to lowercase\n",
    "    text = text.lower()\n",
    "    # Removing punctuation\n",
    "    text = re.sub(r\"[^a-zA-Z0-9]\", \" \", text)\n",
    "    # Tokenize the words\n",
    "    tokens = word_tokenize(text)\n",
    "\n",
    "    # Converting the list of labels into one string\n",
    "    labels = \" \".join(labels)\n",
    "    labels = word_tokenize(labels)\n",
    "    \n",
    "    return tokens, labels\n",
    "\n",
    "tokens, labels = preprocess(text, labels)\n",
    "print(\"Tokens: \\n\", tokens, \"\\n\")\n",
    "print(\"Labels: \\n\", labels)"
   ]
  },
  {
   "cell_type": "code",
   "execution_count": 97,
   "metadata": {},
   "outputs": [
    {
     "name": "stdout",
     "output_type": "stream",
     "text": [
      "Tokens bigram: \n",
      " [('mary', 'will'), ('will', 'see'), ('see', 'jane'), ('jane', 'will'), ('will', 'will'), ('will', 'see'), ('see', 'mary'), ('mary', 'jane'), ('jane', 'will'), ('will', 'see'), ('see', 'will')] \n",
      "\n",
      "Labels bigram: \n",
      " [('noun', 'modal'), ('modal', 'verb'), ('verb', 'noun'), ('noun', 'noun'), ('noun', 'modal'), ('modal', 'verb'), ('verb', 'noun'), ('noun', 'noun'), ('noun', 'modal'), ('modal', 'verb'), ('verb', 'noun')]\n"
     ]
    }
   ],
   "source": [
    "# Bigram function\n",
    "def bigram(tokens):\n",
    "    bigrams = list(nltk.bigrams(tokens))\n",
    "    return bigrams\n",
    "\n",
    "tokens_bigram = bigram(tokens)\n",
    "labels_bigram = bigram(labels)\n",
    "print(\"Tokens bigram: \\n\", tokens_bigram, \"\\n\")\n",
    "print(\"Labels bigram: \\n\", labels_bigram)"
   ]
  },
  {
   "cell_type": "code",
   "execution_count": 98,
   "metadata": {},
   "outputs": [
    {
     "data": {
      "text/plain": [
       "Counter({(('mary', 'will'), ('noun', 'modal')): 1,\n",
       "         (('will', 'see'), ('modal', 'verb')): 3,\n",
       "         (('see', 'jane'), ('verb', 'noun')): 1,\n",
       "         (('jane', 'will'), ('noun', 'noun')): 1,\n",
       "         (('will', 'will'), ('noun', 'modal')): 1,\n",
       "         (('see', 'mary'), ('verb', 'noun')): 1,\n",
       "         (('mary', 'jane'), ('noun', 'noun')): 1,\n",
       "         (('jane', 'will'), ('noun', 'modal')): 1,\n",
       "         (('see', 'will'), ('verb', 'noun')): 1})"
      ]
     },
     "execution_count": 98,
     "metadata": {},
     "output_type": "execute_result"
    }
   ],
   "source": [
    "# Count the bigrams\n",
    "def bigram_count(tokens, labels):\n",
    "    # Initialize Counter\n",
    "    cnt = Counter()\n",
    "    # Iterating through tokens and labels\n",
    "    for i_word, i_label in zip(tokens, labels):\n",
    "        # If word and label are inside counter\n",
    "        if (i_word, i_label) not in cnt:\n",
    "            cnt[(i_word, i_label)] = 1\n",
    "        # If word and label are not inside counter\n",
    "        else:\n",
    "            cnt[(i_word, i_label)] += 1\n",
    "    return cnt\n",
    "\n",
    "bigram_count = bigram_count(tokens_bigram, labels_bigram)\n",
    "bigram_count"
   ]
  },
  {
   "cell_type": "code",
   "execution_count": 99,
   "metadata": {},
   "outputs": [
    {
     "name": "stdout",
     "output_type": "stream",
     "text": [
      "words names: \n",
      " ['mary-will', 'will-see', 'see-jane', 'jane-will', 'will-will', 'see-mary', 'mary-jane', 'jane-will', 'see-will'] \n",
      "\n",
      "labels names: \n",
      " ['noun-modal', 'modal-verb', 'verb-noun', 'noun-noun', 'noun-modal', 'verb-noun', 'noun-noun', 'noun-modal', 'verb-noun']\n"
     ]
    }
   ],
   "source": [
    "# Converting words from ('mary', 'will') format to mary-will format\n",
    "words_names = [\"-\".join(i[0][0]) for i in list(bigram_count.items())]\n",
    "print(\"words names: \\n\", words_names, \"\\n\")\n",
    "\n",
    "# Converting labels from ('noun', 'modal') format to noun-modal format\n",
    "labels_names = [\"-\".join(i[0][1]) for i in list(bigram_count.items())]\n",
    "print(\"labels names: \\n\", labels_names)"
   ]
  },
  {
   "cell_type": "code",
   "execution_count": 100,
   "metadata": {},
   "outputs": [
    {
     "data": {
      "text/html": [
       "<div>\n",
       "<style scoped>\n",
       "    .dataframe tbody tr th:only-of-type {\n",
       "        vertical-align: middle;\n",
       "    }\n",
       "\n",
       "    .dataframe tbody tr th {\n",
       "        vertical-align: top;\n",
       "    }\n",
       "\n",
       "    .dataframe thead th {\n",
       "        text-align: right;\n",
       "    }\n",
       "</style>\n",
       "<table border=\"1\" class=\"dataframe\">\n",
       "  <thead>\n",
       "    <tr style=\"text-align: right;\">\n",
       "      <th></th>\n",
       "      <th>modal-verb</th>\n",
       "      <th>noun-modal</th>\n",
       "      <th>noun-noun</th>\n",
       "      <th>verb-noun</th>\n",
       "    </tr>\n",
       "  </thead>\n",
       "  <tbody>\n",
       "    <tr>\n",
       "      <th>jane-will</th>\n",
       "      <td>0.0</td>\n",
       "      <td>0.0</td>\n",
       "      <td>0.0</td>\n",
       "      <td>0.0</td>\n",
       "    </tr>\n",
       "    <tr>\n",
       "      <th>mary-jane</th>\n",
       "      <td>0.0</td>\n",
       "      <td>0.0</td>\n",
       "      <td>0.0</td>\n",
       "      <td>0.0</td>\n",
       "    </tr>\n",
       "    <tr>\n",
       "      <th>mary-will</th>\n",
       "      <td>0.0</td>\n",
       "      <td>0.0</td>\n",
       "      <td>0.0</td>\n",
       "      <td>0.0</td>\n",
       "    </tr>\n",
       "    <tr>\n",
       "      <th>see-jane</th>\n",
       "      <td>0.0</td>\n",
       "      <td>0.0</td>\n",
       "      <td>0.0</td>\n",
       "      <td>0.0</td>\n",
       "    </tr>\n",
       "    <tr>\n",
       "      <th>see-mary</th>\n",
       "      <td>0.0</td>\n",
       "      <td>0.0</td>\n",
       "      <td>0.0</td>\n",
       "      <td>0.0</td>\n",
       "    </tr>\n",
       "    <tr>\n",
       "      <th>see-will</th>\n",
       "      <td>0.0</td>\n",
       "      <td>0.0</td>\n",
       "      <td>0.0</td>\n",
       "      <td>0.0</td>\n",
       "    </tr>\n",
       "    <tr>\n",
       "      <th>will-see</th>\n",
       "      <td>0.0</td>\n",
       "      <td>0.0</td>\n",
       "      <td>0.0</td>\n",
       "      <td>0.0</td>\n",
       "    </tr>\n",
       "    <tr>\n",
       "      <th>will-will</th>\n",
       "      <td>0.0</td>\n",
       "      <td>0.0</td>\n",
       "      <td>0.0</td>\n",
       "      <td>0.0</td>\n",
       "    </tr>\n",
       "  </tbody>\n",
       "</table>\n",
       "</div>"
      ],
      "text/plain": [
       "           modal-verb  noun-modal  noun-noun  verb-noun\n",
       "jane-will         0.0         0.0        0.0        0.0\n",
       "mary-jane         0.0         0.0        0.0        0.0\n",
       "mary-will         0.0         0.0        0.0        0.0\n",
       "see-jane          0.0         0.0        0.0        0.0\n",
       "see-mary          0.0         0.0        0.0        0.0\n",
       "see-will          0.0         0.0        0.0        0.0\n",
       "will-see          0.0         0.0        0.0        0.0\n",
       "will-will         0.0         0.0        0.0        0.0"
      ]
     },
     "execution_count": 100,
     "metadata": {},
     "output_type": "execute_result"
    }
   ],
   "source": [
    "# Initializing zeros data frame\n",
    "df = pd.DataFrame(np.zeros((len(np.unique(words_names)), len(np.unique(labels_names)))))\n",
    "# Changing the column names\n",
    "df.columns = np.unique(labels_names)\n",
    "# Changing the index names\n",
    "df.index = np.unique(words_names)\n",
    "\n",
    "df"
   ]
  },
  {
   "cell_type": "code",
   "execution_count": 101,
   "metadata": {},
   "outputs": [
    {
     "data": {
      "text/html": [
       "<div>\n",
       "<style scoped>\n",
       "    .dataframe tbody tr th:only-of-type {\n",
       "        vertical-align: middle;\n",
       "    }\n",
       "\n",
       "    .dataframe tbody tr th {\n",
       "        vertical-align: top;\n",
       "    }\n",
       "\n",
       "    .dataframe thead th {\n",
       "        text-align: right;\n",
       "    }\n",
       "</style>\n",
       "<table border=\"1\" class=\"dataframe\">\n",
       "  <thead>\n",
       "    <tr style=\"text-align: right;\">\n",
       "      <th></th>\n",
       "      <th>modal-verb</th>\n",
       "      <th>noun-modal</th>\n",
       "      <th>noun-noun</th>\n",
       "      <th>verb-noun</th>\n",
       "    </tr>\n",
       "  </thead>\n",
       "  <tbody>\n",
       "    <tr>\n",
       "      <th>jane-will</th>\n",
       "      <td>0.0</td>\n",
       "      <td>1.0</td>\n",
       "      <td>1.0</td>\n",
       "      <td>0.0</td>\n",
       "    </tr>\n",
       "    <tr>\n",
       "      <th>mary-jane</th>\n",
       "      <td>0.0</td>\n",
       "      <td>0.0</td>\n",
       "      <td>1.0</td>\n",
       "      <td>0.0</td>\n",
       "    </tr>\n",
       "    <tr>\n",
       "      <th>mary-will</th>\n",
       "      <td>0.0</td>\n",
       "      <td>1.0</td>\n",
       "      <td>0.0</td>\n",
       "      <td>0.0</td>\n",
       "    </tr>\n",
       "    <tr>\n",
       "      <th>see-jane</th>\n",
       "      <td>0.0</td>\n",
       "      <td>0.0</td>\n",
       "      <td>0.0</td>\n",
       "      <td>1.0</td>\n",
       "    </tr>\n",
       "    <tr>\n",
       "      <th>see-mary</th>\n",
       "      <td>0.0</td>\n",
       "      <td>0.0</td>\n",
       "      <td>0.0</td>\n",
       "      <td>1.0</td>\n",
       "    </tr>\n",
       "    <tr>\n",
       "      <th>see-will</th>\n",
       "      <td>0.0</td>\n",
       "      <td>0.0</td>\n",
       "      <td>0.0</td>\n",
       "      <td>1.0</td>\n",
       "    </tr>\n",
       "    <tr>\n",
       "      <th>will-see</th>\n",
       "      <td>3.0</td>\n",
       "      <td>0.0</td>\n",
       "      <td>0.0</td>\n",
       "      <td>0.0</td>\n",
       "    </tr>\n",
       "    <tr>\n",
       "      <th>will-will</th>\n",
       "      <td>0.0</td>\n",
       "      <td>1.0</td>\n",
       "      <td>0.0</td>\n",
       "      <td>0.0</td>\n",
       "    </tr>\n",
       "  </tbody>\n",
       "</table>\n",
       "</div>"
      ],
      "text/plain": [
       "           modal-verb  noun-modal  noun-noun  verb-noun\n",
       "jane-will         0.0         1.0        1.0        0.0\n",
       "mary-jane         0.0         0.0        1.0        0.0\n",
       "mary-will         0.0         1.0        0.0        0.0\n",
       "see-jane          0.0         0.0        0.0        1.0\n",
       "see-mary          0.0         0.0        0.0        1.0\n",
       "see-will          0.0         0.0        0.0        1.0\n",
       "will-see          3.0         0.0        0.0        0.0\n",
       "will-will         0.0         1.0        0.0        0.0"
      ]
     },
     "execution_count": 101,
     "metadata": {},
     "output_type": "execute_result"
    }
   ],
   "source": [
    "# Updating the values in our dataframe\n",
    "for i in zip(bigram_count.items()):\n",
    "    # Get the corresponding word\n",
    "    word = \"-\".join(i[0][0][0])\n",
    "    # Get the corresponding lable\n",
    "    label = \"-\".join(i[0][0][1])\n",
    "    # Update\n",
    "    df[label][word] = i[0][1]\n",
    "    \n",
    "df"
   ]
  },
  {
   "cell_type": "markdown",
   "metadata": {},
   "source": [
    "**Resources:**\n",
    "1. <a href=\"https://www.quora.com/What-is-a-bigram-and-a-trigram-layman-explanation-please\">What is a bigram and a trigram?</a> - Quora.com\n",
    "1. <a href=\"https://en.wikipedia.org/wiki/Bigram\">Bigram</a> - Wikipedia.com\n",
    "2. <a href=\"https://www.tutorialspoint.com/python/python_bigrams.htm\">Python - Bigrams</a> - tutorialspoint.com"
   ]
  },
  {
   "cell_type": "markdown",
   "metadata": {},
   "source": [
    "<hr>\n",
    "\n",
    "## 4. Hidden Markov Models (HMM) in Speech Tagging (Warmup)\n",
    "\n",
    "Part of speech tagging is the process of determining the syntactic category of a word from the words in its surrounding context. It is often used to help disambiguate natural language phrases because it can be done quickly with high accuracy. In this example we will build the example in the below image.\n",
    "\n",
    "<img src=\"assets/hmm.png\">"
   ]
  },
  {
   "cell_type": "code",
   "execution_count": 1,
   "metadata": {},
   "outputs": [],
   "source": [
    "# Importing the libraries\n",
    "import numpy as np\n",
    "import re\n",
    "import matplotlib.pyplot as plt\n",
    "import pomegranate\n",
    "from helpers import show_model"
   ]
  },
  {
   "cell_type": "code",
   "execution_count": 2,
   "metadata": {},
   "outputs": [],
   "source": [
    "# Initiaize the Hidden Markov Model (HMM)\n",
    "model = pomegranate.HiddenMarkovModel()"
   ]
  },
  {
   "cell_type": "markdown",
   "metadata": {},
   "source": [
    "Not let's say that we have the following **emission probabilities**. In this example, We will use same example as in course videos.\n",
    "<img width=\"800px\" src=\"assets/emission.png\">"
   ]
  },
  {
   "cell_type": "code",
   "execution_count": 3,
   "metadata": {},
   "outputs": [],
   "source": [
    "### Emission probabilities\n",
    "\n",
    "# \"Noun\" emission and state\n",
    "emission_noun = pomegranate.DiscreteDistribution({\"mary\": 4/9, \n",
    "                                                  \"jane\": 2/9, \n",
    "                                                  \"will\": 1/9, \n",
    "                                                  \"spot\": 2/9, \n",
    "                                                  \"can\": 0, \n",
    "                                                  \"see\": 0, \n",
    "                                                  \"pat\": 0})\n",
    "state_noun = pomegranate.State(emission_noun, name = \"noun\")\n",
    "\n",
    "# \"Modal\" emission and state\n",
    "emission_modal = pomegranate.DiscreteDistribution({\"mary\": 0, \n",
    "                                                  \"jane\": 0, \n",
    "                                                  \"will\": 3/4, \n",
    "                                                  \"spot\": 0, \n",
    "                                                  \"can\": 1/4, \n",
    "                                                  \"see\": 0, \n",
    "                                                  \"pat\": 0})\n",
    "state_modal = pomegranate.State(emission_noun, name = \"modal\")\n",
    "\n",
    "# \"Verb\" emission and state\n",
    "emission_verb = pomegranate.DiscreteDistribution({\"mary\": 0, \n",
    "                                                  \"jane\": 0, \n",
    "                                                  \"will\": 0, \n",
    "                                                  \"spot\": 1/4, \n",
    "                                                  \"can\": 0, \n",
    "                                                  \"see\": 1/2, \n",
    "                                                  \"pat\": 1/4})\n",
    "state_verb = pomegranate.State(emission_noun, name = \"verb\")"
   ]
  },
  {
   "cell_type": "code",
   "execution_count": 4,
   "metadata": {},
   "outputs": [],
   "source": [
    "# Add the states into our HMM model\n",
    "model.add_states(state_noun, state_modal, state_verb)"
   ]
  },
  {
   "cell_type": "markdown",
   "metadata": {},
   "source": [
    "Now consider the following **transition probabilities**. Add these transitions between your states.\n",
    "\n",
    "<img width=\"800px\" src=\"assets/transition.png\">"
   ]
  },
  {
   "cell_type": "code",
   "execution_count": 5,
   "metadata": {},
   "outputs": [],
   "source": [
    "### Transition probabilities\n",
    "\n",
    "# Transition probabilities from \"<S>\" to \"noun\", \"modal\", \"verb\"\n",
    "model.add_transition(model.start, state_noun, 3/4)\n",
    "model.add_transition(model.start, state_modal, 1/4)\n",
    "model.add_transition(model.start, state_verb, 0)\n",
    "\n",
    "# Transition probabilities from \"noun\" to \"noun\", modal\", \"verb\"\n",
    "model.add_transition(state_noun, state_noun, 1/9)\n",
    "model.add_transition(state_noun, state_modal, 1/3)\n",
    "model.add_transition(state_noun, state_verb, 1/9)\n",
    "\n",
    "# Transition probabilities from \"modal\" to \"noun\", modal\", \"verb\"\n",
    "model.add_transition(state_modal, state_noun, 1/4)\n",
    "model.add_transition(state_modal, state_modal, 0)\n",
    "model.add_transition(state_modal, state_verb, 3/4)\n",
    "\n",
    "# Transition probabilities from \"verb\" to \"noun\", modal\", \"verb\"\n",
    "model.add_transition(state_verb, state_noun, 1)\n",
    "model.add_transition(state_verb, state_modal, 0)\n",
    "model.add_transition(state_verb, state_verb, 0)\n",
    "\n",
    "# Transition probabilities from \"noun\", modal\", \"verb\" to \"<E>\" \n",
    "model.add_transition(state_noun, model.end, 4/9)\n",
    "model.add_transition(state_modal, model.end, 0)\n",
    "model.add_transition(state_verb, model.end, 0)"
   ]
  },
  {
   "cell_type": "code",
   "execution_count": 6,
   "metadata": {},
   "outputs": [],
   "source": [
    "# Finalize the model\n",
    "model.bake()"
   ]
  },
  {
   "cell_type": "code",
   "execution_count": 7,
   "metadata": {},
   "outputs": [
    {
     "name": "stdout",
     "output_type": "stream",
     "text": [
      "Total number of edges:  15\n",
      "Total number of states or nodes:  5\n"
     ]
    }
   ],
   "source": [
    "# Get total number of edges and nodes\n",
    "print(\"Total number of edges: \", model.edge_count())\n",
    "print(\"Total number of states or nodes: \", model.node_count())"
   ]
  },
  {
   "cell_type": "code",
   "execution_count": 8,
   "metadata": {},
   "outputs": [],
   "source": [
    "# Changing \"None-end\" to \"end\"\n",
    "model.states[-1].name = \"<E>\"\n",
    "\n",
    "# Changing \"None-end\" to \"end\"\n",
    "model.states[-2].name = \"<S>\""
   ]
  },
  {
   "cell_type": "code",
   "execution_count": 9,
   "metadata": {},
   "outputs": [
    {
     "data": {
      "image/png": "[encoded data removed]",
      "text/plain": [
       "<Figure size 720x864 with 1 Axes>"
      ]
     },
     "metadata": {
      "needs_background": "light"
     },
     "output_type": "display_data"
    }
   ],
   "source": [
    "# Visualize the model\n",
    "show_model(model, figsize=(10, 12), filename=\"transition.png\", overwrite=True, show_ends=True)"
   ]
  },
  {
   "cell_type": "markdown",
   "metadata": {},
   "source": [
    "Now let's start by predicting the parts of speech of the following text."
   ]
  },
  {
   "cell_type": "code",
   "execution_count": 17,
   "metadata": {},
   "outputs": [
    {
     "name": "stdout",
     "output_type": "stream",
     "text": [
      "Jane will spot Will.\n"
     ]
    }
   ],
   "source": [
    "# Sample text\n",
    "text = \"Jane will spot Will.\"\n",
    "print(text)"
   ]
  },
  {
   "cell_type": "code",
   "execution_count": 11,
   "metadata": {},
   "outputs": [
    {
     "name": "stdout",
     "output_type": "stream",
     "text": [
      "Preprocessed text: \n",
      " ['jane', 'will', 'spot', 'will']\n"
     ]
    }
   ],
   "source": [
    "### Preprocessing the text\n",
    "\n",
    "# Lower case\n",
    "text = text.lower()\n",
    "\n",
    "# remove punctuation\n",
    "text = re.sub(r\"[^a-zA-Z0-9]\", \" \", text)\n",
    "\n",
    "# Tokenizing\n",
    "text = text.split()\n",
    "print(\"Preprocessed text: \\n\", text)"
   ]
  },
  {
   "cell_type": "code",
   "execution_count": 16,
   "metadata": {},
   "outputs": [
    {
     "name": "stdout",
     "output_type": "stream",
     "text": [
      "The most likely sequence: \n",
      " ['<S>', 'noun', 'modal', 'verb', 'noun', '<E>'] \n",
      "\n"
     ]
    }
   ],
   "source": [
    "### Prediction\n",
    "viterbi_likelihood, viterbi_path = model.viterbi(text)\n",
    "\n",
    "# Get the final viterbi path\n",
    "viterbi_path = [i_state[1].name for i_state in viterbi_path]\n",
    "\n",
    "print(\"The most likely sequence: \\n\", viterbi_path, \"\\n\")\n",
    "#print(\"With likelihood of (approximate):\\n {:.3f}%\".format(np.exp(viterbi_likelihood)*100))"
   ]
  },
  {
   "cell_type": "markdown",
   "metadata": {},
   "source": [
    "As you can see, We could successfully, Predict our POS for the sentence \"Jane will spot Will.\"\n",
    "\n",
    "<img src=\"assets/hmm_exp.png\">"
   ]
  },
  {
   "cell_type": "markdown",
   "metadata": {},
   "source": [
    "**Resources:**\n",
    "1. <a href=\"https://towardsdatascience.com/part-of-speech-tagging-with-hidden-markov-chain-models-e9fccc835c0e\">Part of Speech Tagging with Hidden Markov Chain Models</a> - Medium Post\n",
    "2. <a href=\"https://web.stanford.edu/~jurafsky/slp3/A.pdf\">Hidden Markov Models</a> - Speech and Language Processing Textbook"
   ]
  },
  {
   "cell_type": "markdown",
   "metadata": {},
   "source": [
    "<hr>\n",
    "\n",
    "**Notes:**\n",
    "\n",
    "<a href=\"https://www.evernote.com/l/AkUoRUE3ckRAC51wKTE0bkfc18kDyHCrHTo\">Parts of Speech Tagging (POS) with Hidden Markov Model (HMM)</a>"
   ]
  }
 ],
 "metadata": {
  "kernelspec": {
   "display_name": "Python 3",
   "language": "python",
   "name": "python3"
  },
  "language_info": {
   "codemirror_mode": {
    "name": "ipython",
    "version": 3
   },
   "file_extension": ".py",
   "mimetype": "text/x-python",
   "name": "python",
   "nbconvert_exporter": "python",
   "pygments_lexer": "ipython3",
   "version": "3.6.7"
  }
 },
 "nbformat": 4,
 "nbformat_minor": 2
}
