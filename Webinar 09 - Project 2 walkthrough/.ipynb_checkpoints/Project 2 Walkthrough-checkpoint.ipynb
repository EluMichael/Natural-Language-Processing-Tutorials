{
 "cells": [
  {
   "cell_type": "markdown",
   "metadata": {},
   "source": [
    "# Project 2 Walkthrough\n",
    "\n",
    "In this project you should build a deep neural network that functions as part of an end-to-end machine translation pipeline. Your completed pipeline will accept English text as input and return the French translation."
   ]
  },
  {
   "cell_type": "markdown",
   "metadata": {},
   "source": [
    "<hr>\n",
    "\n",
    "## 1. Loading the Dataset\n",
    "In this project we use a subset of dataset taken from <a href=\"http://www.statmt.org/\">WMT</a>. The dataset can be found in the 'dataset' directory."
   ]
  },
  {
   "cell_type": "code",
   "execution_count": 1,
   "metadata": {},
   "outputs": [],
   "source": [
    "%load_ext autoreload\n",
    "%aimport helper, tests\n",
    "%autoreload 1"
   ]
  },
  {
   "cell_type": "code",
   "execution_count": 2,
   "metadata": {},
   "outputs": [
    {
     "name": "stderr",
     "output_type": "stream",
     "text": [
      "Using TensorFlow backend.\n"
     ]
    }
   ],
   "source": [
    "from keras.preprocessing.text import Tokenizer\n",
    "from keras.preprocessing.sequence import pad_sequences\n",
    "from keras.models import Model\n",
    "from keras.layers import GRU, LSTM, Input, Dense, TimeDistributed, Activation, RepeatVector, Bidirectional\n",
    "from keras.layers.embeddings import Embedding\n",
    "from keras.optimizers import Adam\n",
    "from keras.losses import sparse_categorical_crossentropy\n",
    "import collections\n",
    "import helper\n",
    "import numpy as np\n",
    "import project_tests as tests"
   ]
  },
  {
   "cell_type": "code",
   "execution_count": 3,
   "metadata": {},
   "outputs": [
    {
     "name": "stdout",
     "output_type": "stream",
     "text": [
      "Length of dataset:  137861\n"
     ]
    }
   ],
   "source": [
    "# Load English data\n",
    "english_sentences = helper.load_data('data/small_vocab_en')\n",
    "\n",
    "# Load French data\n",
    "french_sentences = helper.load_data('data/small_vocab_fr')\n",
    "\n",
    "print(\"Length of dataset: \", len(english_sentences))"
   ]
  },
  {
   "cell_type": "code",
   "execution_count": 4,
   "metadata": {},
   "outputs": [
    {
     "name": "stdout",
     "output_type": "stream",
     "text": [
      "English sentence: \n",
      " new jersey is sometimes quiet during autumn , and it is snowy in april . \n",
      "\n",
      "French sentence: \n",
      " new jersey est parfois calme pendant l' automne , et il est neigeux en avril .\n"
     ]
    }
   ],
   "source": [
    "# Take a look at the first item in our dataset\n",
    "print(\"English sentence: \\n\", english_sentences[0], \"\\n\")\n",
    "print(\"French sentence: \\n\", french_sentences[0])"
   ]
  },
  {
   "cell_type": "code",
   "execution_count": 5,
   "metadata": {},
   "outputs": [
    {
     "name": "stdout",
     "output_type": "stream",
     "text": [
      "Total number of unique english words:  137861\n",
      "Total number of unique french words:  355\n"
     ]
    }
   ],
   "source": [
    "# Get the vocabularies of that dataset\n",
    "english_word_counter = collections.Counter([word for sentence in english_sentences for word in sentence.split()])\n",
    "print(\"Total number of unique english words: \", len(english_sentences))\n",
    "\n",
    "french_word_counter = collections.Counter([word for sentence in french_sentences for word in sentence.split()])\n",
    "print(\"Total number of unique french words: \", len(french_word_counter))"
   ]
  },
  {
   "cell_type": "markdown",
   "metadata": {},
   "source": [
    "<hr>\n",
    "\n",
    "## 2. Preprocess\n",
    "\n",
    "In preprocess part, You just have to finish the following functions:\n",
    "- Tokenize\n",
    "- Pad"
   ]
  },
  {
   "cell_type": "markdown",
   "metadata": {},
   "source": [
    "### 2.1. Tokenize\n",
    "\n",
    "Take the following steps in order to finish this part:\n",
    "1. Initializing the tokenizer from Keras\n",
    "2. Fit the tokenizer to our text\n",
    "3. Use the tokenizer to convert the text into sequence\n",
    "4. Return the sequence + tokenizer"
   ]
  },
  {
   "cell_type": "code",
   "execution_count": null,
   "metadata": {},
   "outputs": [],
   "source": [
    "def tokenize(x):\n",
    "    \"\"\"\n",
    "    Tokenize x\n",
    "    :param x: List of sentences/strings to be tokenized\n",
    "    :return: Tuple of (tokenized x data, tokenizer used to tokenize x)\n",
    "    \"\"\"\n",
    "    # TODO: Implement\n",
    "    return None, None"
   ]
  },
  {
   "cell_type": "markdown",
   "metadata": {},
   "source": [
    "### 2.2. Pad\n",
    "\n",
    "Take the following steps in order to finish this part:\n",
    "1. Assign 'length' automatically if it was 'None':\n",
    "    - Use 'if' statement if the length is None\n",
    "    - Initialize an empty list\n",
    "    - Iterate through the given sequence and append the length of them inside the initialized list\n",
    "    - Take the maximum of value inside list and assign it to the length\n",
    "2. Apply pad_sequence from Keras to the given sequence"
   ]
  },
  {
   "cell_type": "code",
   "execution_count": null,
   "metadata": {},
   "outputs": [],
   "source": [
    "def pad(x, length=None):\n",
    "    \"\"\"\n",
    "    Pad x\n",
    "    :param x: List of sequences.\n",
    "    :param length: Length to pad the sequence to.  If None, use length of longest sequence in x.\n",
    "    :return: Padded numpy array of sequences\n",
    "    \"\"\"\n",
    "    # TODO: Implement\n",
    "    return None"
   ]
  },
  {
   "cell_type": "markdown",
   "metadata": {},
   "source": [
    "<hr>\n",
    "\n",
    "## 3. Building Models\n",
    "In this section, you will experiment with various neural network architectures. You will begin by training four relatively simple architectures.\n",
    "\n",
    "1. Model 1 is a simple RNN\n",
    "2. Model 2 is a RNN with Embedding\n",
    "3. Model 3 is a Bidirectional RNN\n",
    "4. Model 4 is an optional Encoder-Decoder RNN\n",
    "5. Model 5 is a custom Model"
   ]
  },
  {
   "cell_type": "markdown",
   "metadata": {},
   "source": [
    "### 3.1. Model 1 - Simple RNN\n",
    "In this part, You will build a basic RNN model that is a good baseline for sequence data. In this model, you'll build a RNN that translates English to French. There can be multiple approches for solving this task, Here we will represent one of them:\n",
    "1. Input sequence\n",
    "2. Add a GRU layer which also returns the sequences\n",
    "3. Add another GRU layer which also returns the sequences\n",
    "4. Add a fully connected layer\n",
    "5. Make the model using keras.models.Model\n",
    "6. Compile the model"
   ]
  },
  {
   "cell_type": "code",
   "execution_count": null,
   "metadata": {},
   "outputs": [],
   "source": [
    "def simple_model(input_shape, output_sequence_length, english_vocab_size, french_vocab_size):\n",
    "    \"\"\"\n",
    "    Build and train a basic RNN on x and y\n",
    "    :param input_shape: Tuple of input shape\n",
    "    :param output_sequence_length: Length of output sequence\n",
    "    :param english_vocab_size: Number of unique English words in the dataset\n",
    "    :param french_vocab_size: Number of unique French words in the dataset\n",
    "    :return: Keras model built, but not trained\n",
    "    \"\"\"\n",
    "    # TODO: Build the layers\n",
    "    model = None\n",
    "    model.compile(loss=sparse_categorical_crossentropy,\n",
    "                  optimizer=Adam(learning_rate),\n",
    "                  metrics=['accuracy'])\n",
    "    return model"
   ]
  },
  {
   "cell_type": "markdown",
   "metadata": {},
   "source": [
    "### 3.2. Model 2 - RNN with Embedding\n",
    "\n",
    "In this part you will turn the words into ids, but there's a better representation of a word. This is called word embeddings. An embedding is a vector representation of the word that is close to similar words in n-dimensional space, where the n represents the size of the embedding vectors.\n",
    "\n",
    "In this model, you'll create a RNN model using embedding. There can be multiple approches for solving this task, Here we will represent one of them:\n",
    "1. Input sequence\n",
    "2. Add Embedding layer using keras.layers.Embedding\n",
    "3. Add a GRU layer which also returns the sequences\n",
    "4. Add another GRU layer which also returns the sequences\n",
    "5. Add a fully connected layer\n",
    "6. Make the model using keras.models.Model\n",
    "7. Compile the model"
   ]
  },
  {
   "cell_type": "code",
   "execution_count": null,
   "metadata": {},
   "outputs": [],
   "source": [
    "def embed_model(input_shape, output_sequence_length, english_vocab_size, french_vocab_size):\n",
    "    \"\"\"\n",
    "    Build and train a RNN model using word embedding on x and y\n",
    "    :param input_shape: Tuple of input shape\n",
    "    :param output_sequence_length: Length of output sequence\n",
    "    :param english_vocab_size: Number of unique English words in the dataset\n",
    "    :param french_vocab_size: Number of unique French words in the dataset\n",
    "    :return: Keras model built, but not trained\n",
    "    \"\"\"\n",
    "    # TODO: Implement\n",
    "    return None"
   ]
  },
  {
   "cell_type": "markdown",
   "metadata": {},
   "source": [
    "After writing down your function do the following steps:\n",
    "1. Reshaping the input using pad function to work with the embeded RNN. More specifically reshape preproc_english_sentences with length of preproc_french_sentences.shape[1]\n",
    "2. Initializing the model from the function you have just created\n",
    "3. Fit the model to the dataset"
   ]
  },
  {
   "cell_type": "code",
   "execution_count": null,
   "metadata": {},
   "outputs": [],
   "source": [
    "# TODO: Reshape the input\n",
    "\n",
    "# TODO: Train the neural network\n",
    "\n",
    "# TODO: Print prediction(s)"
   ]
  },
  {
   "cell_type": "markdown",
   "metadata": {},
   "source": [
    "### 3.3. Model 3 - Bidirectional RNN\n",
    "One restriction of a RNN is that it can't see the future input, only the past. This is where bidirectional recurrent neural networks come in. They are able to see the future data. There can be multiple approches for solving this task, Here we will represent one of them:\n",
    "1. Input sequence\n",
    "2. Add Embedding layer using keras.layers.Embedding\n",
    "3. Add a Bidirectional layer which is wrapped around a GRU layer (which returns the sequences)\n",
    "3. Add a Bidirectional layer which is wrapped around a GRU layer (which returns the sequences)\n",
    "5. Add a TimeDistributed layer which is wrapped around a fully connected layer\n",
    "6. Make the model using keras.models.Model\n",
    "7. Compile the model"
   ]
  },
  {
   "cell_type": "code",
   "execution_count": null,
   "metadata": {},
   "outputs": [],
   "source": [
    "def bd_model(input_shape, output_sequence_length, english_vocab_size, french_vocab_size):\n",
    "    \"\"\"\n",
    "    Build and train a bidirectional RNN model on x and y\n",
    "    :param input_shape: Tuple of input shape\n",
    "    :param output_sequence_length: Length of output sequence\n",
    "    :param english_vocab_size: Number of unique English words in the dataset\n",
    "    :param french_vocab_size: Number of unique French words in the dataset\n",
    "    :return: Keras model built, but not trained\n",
    "    \"\"\"\n",
    "    # TODO: Implement\n",
    "    return None"
   ]
  },
  {
   "cell_type": "markdown",
   "metadata": {},
   "source": [
    "After writing down your function do the following steps:\n",
    "1. Reshaping the input\n",
    "2. Initializing the model\n",
    "3. Fit the model to dataset"
   ]
  },
  {
   "cell_type": "code",
   "execution_count": null,
   "metadata": {},
   "outputs": [],
   "source": [
    "# Reshaping the input\n",
    "\n",
    "# Initializing the model\n",
    "\n",
    "# Fit the model to dataset\n",
    "\n",
    "# Print prediction(s)\n"
   ]
  },
  {
   "cell_type": "markdown",
   "metadata": {},
   "source": [
    "### 3.4. Model 4 - Optional Encoder-Decoder RNN\n",
    "Now it's time to look at encoder-decoder models. This model is made up of an encoder and decoder. The encoder creates a matrix representation of the sentence. The decoder takes this matrix as input and predicts the translation as output. There can be multiple approches for solving this task, Here we will represent one of them:\n",
    "1. Input sequence\n",
    "2. Create your encoder which is a GRU layer which does not return the sequences\n",
    "3. Use RepeatVector in Keras to Fit the fixed-sized 2D output of the encoder to the 3D input of the decoder\n",
    "4. Create your decoder which is a GRU layer and also returns the sequences\n",
    "5. Add a fully connected layer\n",
    "6. Add a TimeDistributed layer which is wrapped around a fully connected layer\n",
    "7. Make the model using keras.models.Model\n",
    "8. Compile the model"
   ]
  },
  {
   "cell_type": "code",
   "execution_count": null,
   "metadata": {},
   "outputs": [],
   "source": [
    "def encdec_model(input_shape, output_sequence_length, english_vocab_size, french_vocab_size):\n",
    "    \"\"\"\n",
    "    Build and train an encoder-decoder model on x and y\n",
    "    :param input_shape: Tuple of input shape\n",
    "    :param output_sequence_length: Length of output sequence\n",
    "    :param english_vocab_size: Number of unique English words in the dataset\n",
    "    :param french_vocab_size: Number of unique French words in the dataset\n",
    "    :return: Keras model built, but not trained\n",
    "    \"\"\"\n",
    "    # OPTIONAL: Implement\n",
    "    return None"
   ]
  },
  {
   "cell_type": "markdown",
   "metadata": {},
   "source": [
    "After writing down your function do the following steps:\n",
    "1. Reshaping the input\n",
    "2. Initializing the model\n",
    "3. Fit the model to dataset"
   ]
  },
  {
   "cell_type": "code",
   "execution_count": null,
   "metadata": {},
   "outputs": [],
   "source": [
    "# Reshaping the input\n",
    "\n",
    "# Initializing the model\n",
    "\n",
    "# Fit the model to dataset\n",
    "\n",
    "# Print prediction(s)\n"
   ]
  },
  {
   "cell_type": "markdown",
   "metadata": {},
   "source": [
    "### 3.5. Model 5 - Custom Model\n",
    "\n",
    "In here we use everything we've learned from the previous models to create a model that incorporates embedding and a bidirectional rnn into one model. There can be multiple approches for solving this task, Here we will represent one of them:\n",
    "1. Input sequence\n",
    "2. Add Embedding layer using keras.layers.Embedding\n",
    "3. Create your encoder which is a Bidirectional layer that is wrapped around GRU layer (does not return the sequences).\n",
    "4. Use RepeatVector in Keras to Fit the fixed-sized 2D output of the encoder to the 3D input of the decoder\n",
    "5. Create your decoder which is a Bidirectional layer that is wrapped around GRU layer (returns the sequences)\n",
    "6. Add a TimeDistributed layer which is wrapped around a fully connected layer\n",
    "7. Add another TimeDistributed layer which is wrapped around a fully connected layer\n",
    "8. Make the model using keras.models.Model"
   ]
  },
  {
   "cell_type": "code",
   "execution_count": null,
   "metadata": {},
   "outputs": [],
   "source": [
    "def model_final(input_shape, output_sequence_length, english_vocab_size, french_vocab_size):\n",
    "    \"\"\"\n",
    "    Build and train a model that incorporates embedding, encoder-decoder, and bidirectional RNN on x and y\n",
    "    :param input_shape: Tuple of input shape\n",
    "    :param output_sequence_length: Length of output sequence\n",
    "    :param english_vocab_size: Number of unique English words in the dataset\n",
    "    :param french_vocab_size: Number of unique French words in the dataset\n",
    "    :return: Keras model built, but not trained\n",
    "    \"\"\"\n",
    "    # TODO: Implement\n",
    "    return None"
   ]
  },
  {
   "cell_type": "markdown",
   "metadata": {},
   "source": [
    "<hr>\n",
    "\n",
    "## 4. Prediction\n",
    "\n",
    "In here you will build a prediction function for last model you have created. There can be multiple approches for solving this task, Here we will represent one of them:\n",
    "1. Reshaping the input to work with a embeded RNN\n",
    "2. Initializing the final model you have created\n",
    "3. Fit the model to data"
   ]
  },
  {
   "cell_type": "code",
   "execution_count": null,
   "metadata": {},
   "outputs": [],
   "source": [
    "def final_predictions(x, y, x_tk, y_tk):\n",
    "    \"\"\"\n",
    "    Gets predictions using the final model\n",
    "    :param x: Preprocessed English data\n",
    "    :param y: Preprocessed French data\n",
    "    :param x_tk: English tokenizer\n",
    "    :param y_tk: French tokenizer\n",
    "    \"\"\"\n",
    "    # TODO: Train neural network using model_final\n",
    "    model = None\n",
    "\n",
    "    \n",
    "    ## DON'T EDIT ANYTHING BELOW THIS LINE\n",
    "    y_id_to_word = {value: key for key, value in y_tk.word_index.items()}\n",
    "    y_id_to_word[0] = '<PAD>'\n",
    "\n",
    "    sentence = 'he saw a old yellow truck'\n",
    "    sentence = [x_tk.word_index[word] for word in sentence.split()]\n",
    "    sentence = pad_sequences([sentence], maxlen=x.shape[-1], padding='post')\n",
    "    sentences = np.array([sentence[0], x[0]])\n",
    "    predictions = model.predict(sentences, len(sentences))\n",
    "\n",
    "    print('Sample 1:')\n",
    "    print(' '.join([y_id_to_word[np.argmax(x)] for x in predictions[0]]))\n",
    "    print('Il a vu un vieux camion jaune')\n",
    "    print('Sample 2:')\n",
    "    print(' '.join([y_id_to_word[np.argmax(x)] for x in predictions[1]]))\n",
    "    print(' '.join([y_id_to_word[np.max(x)] for x in y[0]]))\n",
    "\n",
    "\n",
    "final_predictions(preproc_english_sentences, preproc_french_sentences, english_tokenizer, french_tokenizer)"
   ]
  },
  {
   "cell_type": "markdown",
   "metadata": {},
   "source": [
    "**RESOURCES:**\n",
    "1. <a href=\"https://machinelearningmastery.com/develop-neural-machine-translation-system-keras/\">How to Develop a Neural Machine Translation System from Scratch</a>\n",
    "2. <a href=\"https://www.analyticsvidhya.com/blog/2019/01/neural-machine-translation-keras/\">NLP Tutorial on Neural Machine Translation – The Technique Powering Google Translate</a>\n",
    "3. <a href=\"https://www.analyticsvidhya.com/blog/2019/01/neural-machine-translation-keras/\">Neural Machine Translation — Using seq2seq with Keras</a>\n",
    "4. <a href=\"https://blog.keras.io/a-ten-minute-introduction-to-sequence-to-sequence-learning-in-keras.html\">A ten-minute introduction to sequence-to-sequence learning in Keras</a>\n",
    "5. <a href=\"https://nextjournal.com/gkoehler/machine-translation-seq2seq-cpu\">Machine Translation using Sequence-to-Sequence Learning</a>"
   ]
  }
 ],
 "metadata": {
  "kernelspec": {
   "display_name": "Python 3",
   "language": "python",
   "name": "python3"
  },
  "language_info": {
   "codemirror_mode": {
    "name": "ipython",
    "version": 3
   },
   "file_extension": ".py",
   "mimetype": "text/x-python",
   "name": "python",
   "nbconvert_exporter": "python",
   "pygments_lexer": "ipython3",
   "version": "3.6.7"
  }
 },
 "nbformat": 4,
 "nbformat_minor": 2
}
